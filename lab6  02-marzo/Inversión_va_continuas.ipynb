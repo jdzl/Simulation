{
 "cells": [
  {
   "cell_type": "code",
   "execution_count": 23,
   "metadata": {
    "collapsed": false
   },
   "outputs": [
    {
     "data": {
      "image/png": "[encoded data removed]",
      "text/plain": [
       "<matplotlib.figure.Figure at 0x7effd791a690>"
      ]
     },
     "metadata": {},
     "output_type": "display_data"
    }
   ],
   "source": [
    "from randomG import Cm\n",
    "import numpy as np\n",
    "import matplotlib.pylab as plt\n",
    "\n",
    "def exponential_Finverse(p,l):\n",
    "    \n",
    "    ex = -1*np.log(1-p)/l\n",
    "    return ex\n",
    "\n",
    "\n",
    "def GenVAC(l):\n",
    "    N = 1000\n",
    "    u =  Cm(N)\n",
    "    nums = []\n",
    "    for i in range(N):\n",
    "        nums.append(exponential_Finverse(u[i],l))\n",
    "        \n",
    "    return nums\n",
    "\n",
    "        \n",
    "        \n",
    "w= GenVAC(1.5)\n",
    "%matplotlib inline\n",
    "count, bins, ignored = plt.hist(w, 100, normed=True)\n",
    "plt.plot(bins, np.ones_like(bins), linewidth=2, color='r')\n",
    "plt.show()\n"
   ]
  },
  {
   "cell_type": "code",
   "execution_count": null,
   "metadata": {
    "collapsed": true
   },
   "outputs": [],
   "source": []
  }
 ],
 "metadata": {
  "kernelspec": {
   "display_name": "Python 2",
   "language": "python",
   "name": "python2"
  },
  "language_info": {
   "codemirror_mode": {
    "name": "ipython",
    "version": 2
   },
   "file_extension": ".py",
   "mimetype": "text/x-python",
   "name": "python",
   "nbconvert_exporter": "python",
   "pygments_lexer": "ipython2",
   "version": "2.7.11"
  }
 },
 "nbformat": 4,
 "nbformat_minor": 0
}
