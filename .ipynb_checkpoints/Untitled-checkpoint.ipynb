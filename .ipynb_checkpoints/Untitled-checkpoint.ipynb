{
 "cells": [
  {
   "cell_type": "code",
   "execution_count": null,
   "metadata": {
    "collapsed": false
   },
   "outputs": [],
   "source": [
    "\n"
   ]
  },
  {
   "cell_type": "code",
   "execution_count": 1,
   "metadata": {
    "collapsed": false,
    "scrolled": true
   },
   "outputs": [
    {
     "data": {
      "image/png": "[encoded data removed]",
      "text/plain": [
       "<matplotlib.figure.Figure at 0x7f196f4dc6d0>"
      ]
     },
     "metadata": {},
     "output_type": "display_data"
    },
    {
     "name": "stdout",
     "output_type": "stream",
     "text": [
      "('De = ', 0.24122449960362033)\n"
     ]
    },
    {
     "data": {
      "image/png": "[encoded data removed]",
      "text/plain": [
       "<matplotlib.figure.Figure at 0x7f196d3a8a50>"
      ]
     },
     "metadata": {},
     "output_type": "display_data"
    },
    {
     "name": "stdout",
     "output_type": "stream",
     "text": [
      "('D = ', 0.24122449960362005)\n",
      "('p-value = ', 1.3178895129861701e-05)\n"
     ]
    }
   ],
   "source": [
    "%matplotlib inline\n",
    "import numpy as np\n",
    "import scipy as sp\n",
    "import matplotlib.pyplot as plt\n",
    "#################3\n",
    "# congruential mix\n",
    "def Cm(Maxgenerator=1):\n",
    "    nums= []\n",
    "    Xn = 7\n",
    "    a = 7\n",
    "    c = 1\n",
    "    m = 16547\n",
    "    \n",
    "    \n",
    "    for iterator in range(Maxgenerator):        \n",
    "        Xn_1 = (a*Xn + c)% m        \n",
    "        out = float(Xn_1)/float(m)    \n",
    "        nums.append(out)\n",
    "        Xn = Xn_1\n",
    "    return nums\n",
    "#Randu\n",
    "def Randu(Maxgenerator=1):\n",
    "    nums= []\n",
    "    Xn = 9   \n",
    "    a = 65539\n",
    "    m = np.power(2,31)   \n",
    "    \n",
    "    \n",
    "    for iterator in range(Maxgenerator):        \n",
    "        Xn_1 = a*Xn  % m\n",
    "        out = float(Xn_1)/float(m)    \n",
    "        nums.append(out)\n",
    "        Xn = Xn_1\n",
    "    return nums\n",
    "\n",
    "def Sinclair_ZX81(Maxgenerator=1):\n",
    "    nums= []\n",
    "    Xn = 9   \n",
    "    a = 75\n",
    "    m =  np.power(2,16)+1     \n",
    "    \n",
    "    for iterator in range(Maxgenerator):        \n",
    "        Xn_1 = a*Xn  % m\n",
    "        out = float(Xn_1)/float(m)    \n",
    "        nums.append(out)\n",
    "        Xn = Xn_1\n",
    "    return nums\n",
    " \n",
    "def Numerical_reciepes(Maxgenerator=1):\n",
    "    nums= []\n",
    "    Xn = 9   \n",
    "    a = 1664525\n",
    "    m =  np.power(2,32)    \n",
    "    c= 1013904223\n",
    "    for iterator in range(Maxgenerator):                \n",
    "        Xn_1 = (a*Xn + c ) % m\n",
    "        out = float(Xn_1)/float(m)    \n",
    "        nums.append(out)\n",
    "        Xn = Xn_1\n",
    "    return nums\n",
    "# Borland C/C++\n",
    "def Borland_C(Maxgenerator=1):\n",
    "    nums= []\n",
    "    Xn = 9   \n",
    "    a = 22695477\n",
    "    m =  np.power(2,32)    \n",
    "    c= 1\n",
    "    for iterator in range(Maxgenerator):                \n",
    "        Xn_1 = (a*Xn + c )  % m\n",
    "        out = float(Xn_1)/float(m)    \n",
    "        nums.append(out)\n",
    "        Xn = Xn_1\n",
    "    return nums\n",
    "\n",
    "#################################################\n",
    "N = 100\n",
    "# Teoretical CDF for Uniform distribution F(x)\n",
    "u = [1.0] * N\n",
    "#x = np.random.uniform(0,1,N)\n",
    "#x =  Cm(N)  #congruential mix\n",
    "x =  Randu(N) # Randu\n",
    "#x =  Sinclair_ZX81(N) \n",
    "#x =  Numerical_reciepes(N)\n",
    "#x =  Borland_C(N)\n",
    "\n",
    "count, bins, ignored = plt.hist(x, 25, normed=True)\n",
    "plt.plot(bins, np.ones_like(bins), linewidth=2, color='r')\n",
    "plt.show()\n",
    "\n",
    "x1 = np.arange(float(1)/N,1.01,float(1)/N)\n",
    "\n",
    "y1 = np.cumsum(np.sort(u)/np.max(np.cumsum(u)))\n",
    "\n",
    "x2 = np.sort(x)\n",
    "\n",
    "y2 = np.cumsum(np.sort(x)/np.max(np.cumsum(x)))\n",
    "\n",
    "De = np.absolute(y2-y1)\n",
    "#print(D)\n",
    "print(\"De = \",np.max(De))\n",
    "\n",
    "# Plotting\n",
    "plt.plot(x1,y1,label='Uniform')\n",
    "plt.step(x2,y2,label='Random')\n",
    "x3 = [x1[De.argmax()],x1[De.argmax()]]\n",
    "y3 = [np.min([y1[De.argmax()],y2[De.argmax()]]),np.max([y1[De.argmax()],y2[De.argmax()]])]\n",
    "plt.step(x3,y3,label='D')\n",
    "\n",
    "#plt.plot(x1,De,label='De')\n",
    "\n",
    "plt.legend()\n",
    "plt.xlabel('X')\n",
    "plt.ylabel('Cumulative Probability P(X)')\n",
    "#plt.title('arbitrary')\n",
    "#plt.xscale('log')\n",
    "#plt.yscale('log')\n",
    "\n",
    "#plt.xlim(0, np.max([np.max(whitney),np.max(redwell)])+0.05)\n",
    "plt.ylim(0, 1.05)\n",
    "\n",
    "plt.show()\n",
    "# scipy function for K-S test\n",
    "from scipy import stats\n",
    "D,pvalue = stats.kstest(y2, 'uniform')\n",
    "print(\"D = \", D)\n",
    "print(\"p-value = \", pvalue)"
   ]
  },
  {
   "cell_type": "code",
   "execution_count": null,
   "metadata": {
    "collapsed": true
   },
   "outputs": [],
   "source": []
  },
  {
   "cell_type": "code",
   "execution_count": null,
   "metadata": {
    "collapsed": true
   },
   "outputs": [],
   "source": []
  }
 ],
 "metadata": {
  "kernelspec": {
   "display_name": "Python 2",
   "language": "python",
   "name": "python2"
  },
  "language_info": {
   "codemirror_mode": {
    "name": "ipython",
    "version": 2
   },
   "file_extension": ".py",
   "mimetype": "text/x-python",
   "name": "python",
   "nbconvert_exporter": "python",
   "pygments_lexer": "ipython2",
   "version": "2.7.11"
  }
 },
 "nbformat": 4,
 "nbformat_minor": 0
}
