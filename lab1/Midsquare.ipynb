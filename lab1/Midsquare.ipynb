{
 "cells": [
  {
   "cell_type": "markdown",
   "metadata": {
    "collapsed": false
   },
   "source": [
    "# Midsquare \n",
    "\n",
    "\n"
   ]
  },
  {
   "cell_type": "markdown",
   "metadata": {
    "collapsed": false
   },
   "source": [
    "Middle-square method\n",
    "\n",
    "<img src=\"midsqr.png\">\n",
    "One iteration of the middle-square method, showing a six digit seed, which is then squared, and the resulting value has its middle six digits as the output value (and also as the next seed for the sequence)."
   ]
  },
  {
   "cell_type": "code",
   "execution_count": 10,
   "metadata": {
    "collapsed": false
   },
   "outputs": [
    {
     "name": "stdout",
     "output_type": "stream",
     "text": [
      "\n",
      "[0.959861]\n"
     ]
    }
   ],
   "source": [
    "def MidSquare(seed, Maxgenerator=1):\n",
    "        \n",
    "    nums= []\n",
    "    seedCurrent = seed\n",
    "    for iterator in range(Maxgenerator):\n",
    "                        \n",
    "        if(len(seedCurrent)%2==0):\n",
    "\n",
    "            n = int(seedCurrent)   \n",
    "            seed2 = n**2\n",
    "            stringc =  str(seed2)\n",
    "            if len(stringc)%2!=0:\n",
    "                stringc = \"0\"+ stringc\n",
    "\n",
    "\n",
    "            border = len(seedCurrent)/2\n",
    "\n",
    "            seedNew = stringc[border:len(stringc)-border]\n",
    "            output = \"0.\"+ seedNew\n",
    "            nums.append(float(output))\n",
    "            seedCurrent = seedNew\n",
    "            print \n",
    "            \n",
    "    return nums        \n",
    "\n",
    "#seed = raw_input(\"Number with length even: \")\n",
    "print MidSquare(\"675248\")\n",
    "#print MidSquare(\"11\",5)"
   ]
  },
  {
   "cell_type": "code",
   "execution_count": null,
   "metadata": {
    "collapsed": true
   },
   "outputs": [],
   "source": []
  }
 ],
 "metadata": {
  "kernelspec": {
   "display_name": "Python 2",
   "language": "python",
   "name": "python2"
  },
  "language_info": {
   "codemirror_mode": {
    "name": "ipython",
    "version": 2
   },
   "file_extension": ".py",
   "mimetype": "text/x-python",
   "name": "python",
   "nbconvert_exporter": "python",
   "pygments_lexer": "ipython2",
   "version": "2.7.11"
  }
 },
 "nbformat": 4,
 "nbformat_minor": 0
}
