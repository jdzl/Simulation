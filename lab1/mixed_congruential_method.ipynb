{
 "cells": [
  {
   "cell_type": "markdown",
   "metadata": {},
   "source": [
    "# The mixed congruential method"
   ]
  },
  {
   "cell_type": "markdown",
   "metadata": {},
   "source": [
    "The mixed method has the following recurrence equation:\n",
    "<img src=\"cm.png\">\n",
    "where\n",
    "\n",
    "a = is the multiplicative constant.<br\\>\n",
    "c = is the additive constant. <br\\>\n",
    "m = is the magnitude of the module. <br\\>\n",
    "X0 = it is the seed.<br\\>\n",
    "The minimum requirements that must meet these parameters are: X0,a,c,m >= 0; integers and m> a, m> c, m> X0"
   ]
  },
  {
   "cell_type": "code",
   "execution_count": 3,
   "metadata": {
    "collapsed": false
   },
   "outputs": [
    {
     "name": "stdout",
     "output_type": "stream",
     "text": [
      "Seed : 1\n",
      "[6, 1, 8, 11, 10, 5, 12, 15, 14, 9, 0, 3, 2, 13, 4, 7, 6, 1, 8]\n"
     ]
    }
   ],
   "source": [
    "\n",
    "def Cm(x0, Maxgenerator=1):\n",
    "    nums= []\n",
    "    Xn = int(x0)    \n",
    "    \n",
    "    a = 2\n",
    "    c = 0\n",
    "    m = 9    \n",
    "    \n",
    "    for iterator in range(Maxgenerator):        \n",
    "        Xn_1 = (a*Xn + c)% m\n",
    "        nums.append(Xn_1)\n",
    "        Xn = Xn_1\n",
    "    return nums\n",
    "\n",
    "print \"Seed : 1\"\n",
    "print Cm(1,6)\n"
   ]
  },
  {
   "cell_type": "markdown",
   "metadata": {},
   "source": [
    "<img src=\"outp.png\">"
   ]
  },
  {
   "cell_type": "code",
   "execution_count": null,
   "metadata": {
    "collapsed": true
   },
   "outputs": [],
   "source": []
  }
 ],
 "metadata": {
  "kernelspec": {
   "display_name": "Python 2",
   "language": "python",
   "name": "python2"
  },
  "language_info": {
   "codemirror_mode": {
    "name": "ipython",
    "version": 2
   },
   "file_extension": ".py",
   "mimetype": "text/x-python",
   "name": "python",
   "nbconvert_exporter": "python",
   "pygments_lexer": "ipython2",
   "version": "2.7.11"
  }
 },
 "nbformat": 4,
 "nbformat_minor": 0
}
