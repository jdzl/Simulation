{
 "cells": [
  {
   "cell_type": "code",
   "execution_count": 97,
   "metadata": {
    "collapsed": false
   },
   "outputs": [
    {
     "data": {
      "text/plain": [
       "'\\n#x = MidSquare(\"24\",100)\\n#y = MidSquare(\"53\",100)\\nx = Cm(4,100)*\\ny = Cm(22,100)\\na = np.linspace(0, 2*np.pi, 500)\\ncx,cy = np.cos(a), np.sin(a)\\n\\nfg, ax = plt.subplots(1, 1)\\nax.plot(cx, cy,\\'-\\', alpha=.5) # draw unit circle line\\n#for j in x:\\n#   ax.plot(x,y,\\'*\\')\\n#plt.show()\\n'"
      ]
     },
     "execution_count": 97,
     "metadata": {},
     "output_type": "execute_result"
    }
   ],
   "source": [
    "import matplotlib.pyplot as plt\n",
    "import numpy as np\n",
    "from randomG import *\n",
    "\n",
    "def AreaC(r):\n",
    "    return np.pi*r\n",
    "\n",
    "r=3\n",
    "n = 1000\n",
    "t=np.linspace(0,AreaC(r),100);\n",
    "x=r*np.cos(t);\n",
    "y=r*np.sin(t);\n",
    "\n",
    "plt.plot(x,y,'-',2);\n",
    "\n",
    "#w = MidSquare(\"23\",n)\n",
    "#z = MidSquare(\"15\",n)\n",
    "w= Cm(205,n)\n",
    "\n",
    "z = Cm(45,n)\n",
    "\n",
    "for i in range(n):\n",
    "    if np.sqrt(pow(w[i],2)+pow(z[i],2)) < r:\n",
    "        plt.plot(w[i]*,z[i],'*')\n",
    "    else:\n",
    "        plt.plot(w[i],z[i],'b')\n",
    "\n",
    "plt.show()\n",
    "\n",
    "\n",
    "\n",
    "\"\"\"\n",
    "#x = MidSquare(\"24\",100)\n",
    "#y = MidSquare(\"53\",100)\n",
    "x = Cm(4,100)*\n",
    "y = Cm(22,100)\n",
    "a = np.linspace(0, 2*np.pi, 500)\n",
    "cx,cy = np.cos(a), np.sin(a)\n",
    "\n",
    "fg, ax = plt.subplots(1, 1)\n",
    "ax.plot(cx, cy,'-', alpha=.5) # draw unit circle line\n",
    "#for j in x:\n",
    "#   ax.plot(x,y,'*')\n",
    "#plt.show()\n",
    "\"\"\""
   ]
  },
  {
   "cell_type": "code",
   "execution_count": null,
   "metadata": {
    "collapsed": true
   },
   "outputs": [],
   "source": []
  },
  {
   "cell_type": "code",
   "execution_count": null,
   "metadata": {
    "collapsed": true
   },
   "outputs": [],
   "source": []
  }
 ],
 "metadata": {
  "kernelspec": {
   "display_name": "Python 2",
   "language": "python",
   "name": "python2"
  },
  "language_info": {
   "codemirror_mode": {
    "name": "ipython",
    "version": 2
   },
   "file_extension": ".py",
   "mimetype": "text/x-python",
   "name": "python",
   "nbconvert_exporter": "python",
   "pygments_lexer": "ipython2",
   "version": "2.7.11"
  }
 },
 "nbformat": 4,
 "nbformat_minor": 0
}
