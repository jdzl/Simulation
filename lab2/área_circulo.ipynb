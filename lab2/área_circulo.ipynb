{
 "cells": [
  {
   "cell_type": "code",
   "execution_count": 122,
   "metadata": {
    "collapsed": false
   },
   "outputs": [],
   "source": [
    "import matplotlib.pyplot as plt\n",
    "import numpy as np\n",
    "from randomG import *\n",
    "\n",
    "def AreaC(r):\n",
    "    return np.pi*r\n",
    "\n",
    "r=3\n",
    "n = 1000\n",
    "t=np.linspace(0,AreaC(r),100);\n",
    "x=r*np.cos(t);\n",
    "y=r*np.sin(t);\n",
    "\n",
    "plt.plot(x,y,'-',2);\n",
    "\n",
    "#w = MidSquare(\"23\",n)\n",
    "#z = MidSquare(\"15\",n)\n",
    "#w= Cm(205,n)\n",
    "\n",
    "#z = Cm(45,n)\n",
    "w= np.random.uniform(-r, r, size=1000)\n",
    "z= np.random.uniform(-r, r, size=1000)\n",
    "for i in range(n):\n",
    "    if np.sqrt(pow(w[i],2)+pow(z[i],2)) < r:\n",
    "        plt.plot(w[i],z[i],'bo', alpha=.5)\n",
    "    else:\n",
    "        #plt.plot(w[i],z[i],'*', alpha=.5)\n",
    "        plt.scatter(w[i],z[i], marker=\"o\",c='r')\n",
    "\n",
    "plt.show()\n"
   ]
  }
 ],
 "metadata": {
  "kernelspec": {
   "display_name": "Python 2",
   "language": "python",
   "name": "python2"
  },
  "language_info": {
   "codemirror_mode": {
    "name": "ipython",
    "version": 2
   },
   "file_extension": ".py",
   "mimetype": "text/x-python",
   "name": "python",
   "nbconvert_exporter": "python",
   "pygments_lexer": "ipython2",
   "version": "2.7.11"
  }
 },
 "nbformat": 4,
 "nbformat_minor": 0
}
