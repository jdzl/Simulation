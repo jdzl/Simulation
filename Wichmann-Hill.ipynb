{
 "cells": [
  {
   "cell_type": "markdown",
   "metadata": {},
   "source": [
    "# Wichmann-Hill"
   ]
  },
  {
   "cell_type": "markdown",
   "metadata": {},
   "source": [
    "\n",
    "Wichmann-Hill is a pseudorandom number generator proposed in 1982 by Brian Wichmann and David Hill.[1] In its core, \n",
    "numbers are generated <br/>\n",
    "by taking the fractional part of a sum of rectangularly distributed numbers from imperfect algorithms. As the addition of fractional parts of numbers will be <br/>\n",
    "rectangularly distributed if only one of the number is rectangular, the method is an appropriate generator.\n",
    "In its crude form, three number generators\n",
    "<br/>\n",
    "are used to create a pseudorandom sequence with cycle exceeding 6.95*10^12 . A brute-force computation result of AS183 shows that the length of cycle is 6953607871644."
   ]
  },
  {
   "cell_type": "code",
   "execution_count": 21,
   "metadata": {
    "collapsed": false
   },
   "outputs": [
    {
     "name": "stdout",
     "output_type": "stream",
     "text": [
      "Seek x1 = 7\n",
      "Seek x2 = 3\n",
      "Seek x3 = 1\n",
      "Numbers to generate 8\n",
      "U0 ->  0.0621774845638\n",
      "U1 ->  0.643769324581\n",
      "U2 ->  0.0599149531744\n",
      "U3 ->  0.913598202373\n",
      "U4 ->  0.190035351696\n",
      "U5 ->  0.989097162455\n",
      "U6 ->  0.681518358647\n",
      "U7 ->  0.397525632013\n"
     ]
    }
   ],
   "source": [
    "class Algorithms:   \n",
    "    pass\n",
    "   \n",
    "\n",
    "def Wichmann_Hill(x1, x2, x3,MAX_ITERATOR):\n",
    "    \n",
    "    mod = lambda a,b : a%b\n",
    "\n",
    "    for i in range(0,MAX_ITERATOR):\n",
    "        x1 = mod( 171 * x1, 30269)\n",
    "        x2 = mod( 172 * x2, 30307)\n",
    "        x3 = mod( 170 * x3, 30323)\n",
    "        ui  = mod( (x1/30269.0 + x2/30307.0 + x3/30323.0) , 1) \n",
    "        print \"U\" + str(i) + \" ->  \" + str(ui)                  \n",
    "\n",
    "\n",
    "x1 = input(\"Seek x1 = \")\n",
    "x2 = input(\"Seek x2 = \")\n",
    "x3 = input(\"Seek x3 = \")\n",
    "len_iter = input(\"Numbers to generate \")\n",
    "\n",
    "Wichmann_Hill(\n",
    "              x1,\n",
    "              x2,\n",
    "              x3,\n",
    "              len_iter \n",
    "             )\n",
    "        \n"
   ]
  },
  {
   "cell_type": "code",
   "execution_count": null,
   "metadata": {
    "collapsed": true
   },
   "outputs": [],
   "source": []
  }
 ],
 "metadata": {
  "kernelspec": {
   "display_name": "Python 2",
   "language": "python",
   "name": "python2"
  },
  "language_info": {
   "codemirror_mode": {
    "name": "ipython",
    "version": 2
   },
   "file_extension": ".py",
   "mimetype": "text/x-python",
   "name": "python",
   "nbconvert_exporter": "python",
   "pygments_lexer": "ipython2",
   "version": "2.7.11"
  }
 },
 "nbformat": 4,
 "nbformat_minor": 0
}
