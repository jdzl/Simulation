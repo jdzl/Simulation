{
 "cells": [
  {
   "cell_type": "code",
   "execution_count": 34,
   "metadata": {
    "collapsed": false
   },
   "outputs": [
    {
     "name": "stdout",
     "output_type": "stream",
     "text": [
      "------\n",
      "1000\n"
     ]
    }
   ],
   "source": [
    "from randomG import Cm\n",
    "import numpy as np\n",
    "\n",
    "def GenVAD(N,x,px):\n",
    "    \n",
    "    X = []\n",
    "    u =  Cm(N)    \n",
    "    Px = np.cumsum(px)    \n",
    "  \n",
    "    print \"------\"\n",
    "    for index in range(N):\n",
    "        for i in range (1,len(Px)):\n",
    "           \n",
    "            if(u[index]<Px[0] ):\n",
    "                X.append(x[0])\n",
    "                break\n",
    "                \n",
    "            if(u[index]<Px[i] and u[index]>=Px[i-1]  ):                \n",
    "                X.append(x[i-1])\n",
    "                break\n",
    "            \n",
    "                \n",
    "    return X\n",
    "\n",
    "\n",
    "x = np.arange(1,7)\n",
    "px = np.ones(6)*(float(1)/int(6))    \n",
    "N=1000\n",
    "print GenVAD(N,x,px)\n",
    "\n",
    "\n",
    "    \n",
    "    \n",
    "    "
   ]
  },
  {
   "cell_type": "code",
   "execution_count": null,
   "metadata": {
    "collapsed": true
   },
   "outputs": [],
   "source": []
  }
 ],
 "metadata": {
  "kernelspec": {
   "display_name": "Python 2",
   "language": "python",
   "name": "python2"
  },
  "language_info": {
   "codemirror_mode": {
    "name": "ipython",
    "version": 2
   },
   "file_extension": ".py",
   "mimetype": "text/x-python",
   "name": "python",
   "nbconvert_exporter": "python",
   "pygments_lexer": "ipython2",
   "version": "2.7.11"
  }
 },
 "nbformat": 4,
 "nbformat_minor": 0
}
