{
 "cells": [
  {
   "cell_type": "markdown",
   "metadata": {},
   "source": [
    "Lanzamos 2 datos con probabilidad uniforme cada uno.<br/>\n",
    "uno de los dados tiene 8 caras (numeros de 1 a 8) y el segundo tiene 13  caras(1 a 13)<br/>\n",
    "la variable aleatoria X es la suma de los 2 dados.<br/>\n",
    "\n",
    "<ol>\n",
    "<li> implementar un generador de la v.a. X usando el metodo de inversion</li>\n",
    "<li> Graficar la distribucion de la v.a. 5000 valores</li>\n",
    "<li> Calcular el valor esperado de la v.a. apartir de los 5000 valores</li>\n",
    "</ol>\n",
    "\n"
   ]
  },
  {
   "cell_type": "code",
   "execution_count": 38,
   "metadata": {
    "collapsed": false
   },
   "outputs": [
    {
     "name": "stdout",
     "output_type": "stream",
     "text": [
      "11.5\n",
      "------\n"
     ]
    }
   ],
   "source": [
    "from randomG import Cm,GenVAD\n",
    "import numpy as np\n",
    "import matplotlib.pylab as plt\n",
    "\n",
    "x = np.arange(2,22)\n",
    "def px():\n",
    "    z=[]\n",
    "    for i in range(1,8):\n",
    "        z.append(i)\n",
    "    for i in range(6):\n",
    "        z.append(8)\n",
    "    for j in range(7,0,-1):\n",
    "        z.append(j)\n",
    "    pj=[]\n",
    "    for i in range(len(z)):\n",
    "        pj.append(float(z[i])/float(104))\n",
    "\n",
    "    return pj\n",
    "\n",
    "def ExpectedValue(x,px):\n",
    "    e_x = []\n",
    "    for index in range( len(x)):\n",
    "        e_x.append(x[index]*px[index]) \n",
    "    ex = np.sum(e_x)\n",
    "    return ex   \n",
    "\n",
    "    \n",
    "x = np.arange(2,22)\n",
    "px = px()\n",
    "\n",
    "N = 5000\n",
    "print ExpectedValue(x,px)\n",
    "#print px\n",
    "w= GenVAD(N,x,pj) \n",
    "s =[]\n",
    "for i in range(2,22):\n",
    "    s.append(w.count(i))\n",
    "    \n",
    "count, bins, ignored = plt.hist(w, 25, normed=True)\n",
    "plt.plot(bins, np.ones_like(bins), linewidth=2, color='r')\n",
    "plt.show()"
   ]
  },
  {
   "cell_type": "code",
   "execution_count": null,
   "metadata": {
    "collapsed": true
   },
   "outputs": [],
   "source": []
  }
 ],
 "metadata": {
  "kernelspec": {
   "display_name": "Python 2",
   "language": "python",
   "name": "python2"
  },
  "language_info": {
   "codemirror_mode": {
    "name": "ipython",
    "version": 2
   },
   "file_extension": ".py",
   "mimetype": "text/x-python",
   "name": "python",
   "nbconvert_exporter": "python",
   "pygments_lexer": "ipython2",
   "version": "2.7.10"
  }
 },
 "nbformat": 4,
 "nbformat_minor": 0
}
