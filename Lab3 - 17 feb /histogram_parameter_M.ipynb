{
 "cells": [
  {
   "cell_type": "markdown",
   "metadata": {},
   "source": [
    "\n",
    "The mixed method has the following recurrence equation:\n",
    "<img src=\"cm.png\">\n",
    "where \n",
    "a = 7,\n",
    "c = 1,<br/>\n",
    "m= 16547   big number\n",
    "\n"
   ]
  },
  {
   "cell_type": "code",
   "execution_count": 1,
   "metadata": {
    "collapsed": false
   },
   "outputs": [],
   "source": [
    "from randomG import *\n",
    "import matplotlib.pylab as plt\n",
    "N = 1000\n",
    "\n",
    "Seed = 7\n",
    "a = 7\n",
    "c = 1\n",
    "m = 16547\n",
    "\n",
    "z = Cm(Seed,a,c,m,N)\n",
    "\n",
    "rang= np.zeros(10)\n",
    "\n",
    "\n",
    "for iterator in range(N):\n",
    "    for i in range(1,11):\n",
    "        \n",
    "        div = float(i)/float(10)       \n",
    "        \n",
    "        if(z[iterator]< div and  z[iterator]>= (div-0.1)):\n",
    "            rang[i-1] = rang[i-1]+1\n",
    "\n",
    "rango =np.arange(0,1,0.1)\n",
    "\n",
    "\n",
    "med = sum(rang)/len(rang)\n",
    "plt.axes((0.1, 0.2, 0.8, 0.6))  # axes position\n",
    "plt.bar(np.arange(10), rang)  # paint graph\n",
    "plt.ylim(0,max(rang)+50)  # Limit values graph \n",
    "plt.title('rnd')\n",
    "plt.xticks(np.arange(10),rango) \n",
    "\n",
    "N = 10\n",
    "y = np.ones(N)*med\n",
    "x = np.linspace(0, N, N, endpoint=True)\n",
    "plt.plot(x, y,  linewidth=2, color='r')\n",
    "plt.show()\n"
   ]
  },
  {
   "cell_type": "markdown",
   "metadata": {
    "collapsed": true
   },
   "source": [
    "<img src=\"figure_1.png\"/ width=\"450px\">"
   ]
  },
  {
   "cell_type": "code",
   "execution_count": null,
   "metadata": {
    "collapsed": true
   },
   "outputs": [],
   "source": []
  }
 ],
 "metadata": {
  "kernelspec": {
   "display_name": "Python 2",
   "language": "python",
   "name": "python2"
  },
  "language_info": {
   "codemirror_mode": {
    "name": "ipython",
    "version": 2
   },
   "file_extension": ".py",
   "mimetype": "text/x-python",
   "name": "python",
   "nbconvert_exporter": "python",
   "pygments_lexer": "ipython2",
   "version": "2.7.10"
  }
 },
 "nbformat": 4,
 "nbformat_minor": 0
}
